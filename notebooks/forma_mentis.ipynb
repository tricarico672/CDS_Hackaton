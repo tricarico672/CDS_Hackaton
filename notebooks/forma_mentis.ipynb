{
 "cells": [
  {
   "cell_type": "code",
   "execution_count": 17,
   "id": "3994c295",
   "metadata": {},
   "outputs": [],
   "source": [
    "from emoatlas import EmoScores\n",
    "import emoatlas\n",
    "import matplotlib\n",
    "import pandas as pd"
   ]
  },
  {
   "cell_type": "code",
   "execution_count": null,
   "id": "2c4a207a",
   "metadata": {},
   "outputs": [],
   "source": []
  },
  {
   "cell_type": "code",
   "execution_count": 3,
   "id": "730d3525",
   "metadata": {},
   "outputs": [
    {
     "name": "stderr",
     "output_type": "stream",
     "text": [
      "[nltk_data] Downloading package wordnet to /Users/anthony/nltk_data...\n"
     ]
    },
    {
     "data": {
      "text/plain": [
       "True"
      ]
     },
     "execution_count": 3,
     "metadata": {},
     "output_type": "execute_result"
    }
   ],
   "source": [
    "import nltk\n",
    "nltk.download('wordnet')"
   ]
  },
  {
   "cell_type": "code",
   "execution_count": 4,
   "id": "d7d31685",
   "metadata": {},
   "outputs": [],
   "source": [
    "emos = EmoScores()"
   ]
  },
  {
   "cell_type": "code",
   "execution_count": 5,
   "id": "fa413e15",
   "metadata": {},
   "outputs": [
    {
     "data": {
      "text/plain": [
       "<emoatlas.emolib.EmoScores at 0x1209b9580>"
      ]
     },
     "execution_count": 5,
     "metadata": {},
     "output_type": "execute_result"
    }
   ],
   "source": [
    "emos"
   ]
  },
  {
   "cell_type": "code",
   "execution_count": 13,
   "id": "e8f8c0a1",
   "metadata": {},
   "outputs": [],
   "source": [
    "fmnt = emos.formamentis_network(\"hello my name is\")"
   ]
  },
  {
   "cell_type": "code",
   "execution_count": 16,
   "id": "5d617372",
   "metadata": {},
   "outputs": [
    {
     "data": {
      "text/plain": [
       "{'anger': np.float64(-0.03916478926557741),\n",
       " 'trust': np.float64(2.638561047718566),\n",
       " 'surprise': np.float64(-0.19180917796260175),\n",
       " 'disgust': np.float64(-1.6934515666555061),\n",
       " 'joy': np.float64(3.200988658198049),\n",
       " 'sadness': np.float64(-1.8691465452631753),\n",
       " 'fear': np.float64(-0.9928243185098796),\n",
       " 'anticipation': np.float64(3.1847529896368223)}"
      ]
     },
     "execution_count": 16,
     "metadata": {},
     "output_type": "execute_result"
    }
   ],
   "source": [
    "sample_text = \"love friend time money fear velocity speed emotion passion force trust friendship bond emotion love companion game trust game success game attempt game force force will\"\n",
    "\n",
    "emos.zscores(sample_text)"
   ]
  },
  {
   "cell_type": "code",
   "execution_count": null,
   "id": "bdd513f2",
   "metadata": {},
   "outputs": [],
   "source": []
  },
  {
   "cell_type": "code",
   "execution_count": 14,
   "id": "ccef6a8e",
   "metadata": {},
   "outputs": [
    {
     "data": {
      "text/plain": [
       "FormamentisNetwork(edges=[], vertices=[])"
      ]
     },
     "execution_count": 14,
     "metadata": {},
     "output_type": "execute_result"
    }
   ],
   "source": [
    "fmnt"
   ]
  },
  {
   "cell_type": "code",
   "execution_count": null,
   "id": "c5b44a56",
   "metadata": {},
   "outputs": [],
   "source": []
  },
  {
   "cell_type": "code",
   "execution_count": null,
   "id": "d0a6418b",
   "metadata": {},
   "outputs": [],
   "source": []
  },
  {
   "cell_type": "code",
   "execution_count": 10,
   "id": "baae83a8",
   "metadata": {},
   "outputs": [],
   "source": [
    "sample_text = \"Oggi è una bella giornata e quindi sono felice!\"\n",
    "fmnt2 = emos.formamentis_network(sample_text)"
   ]
  },
  {
   "cell_type": "code",
   "execution_count": 11,
   "id": "dc648017",
   "metadata": {},
   "outputs": [
    {
     "data": {
      "text/plain": [
       "FormamentisNetwork(edges=[('bella', 'felice'), ('bella', 'giornata'), ('felice', 'oggi'), ('bella', 'oggi'), ('giornata', 'oggi'), ('felice', 'giornata')], vertices=['oggi', 'felice', 'giornata', 'bella'])"
      ]
     },
     "execution_count": 11,
     "metadata": {},
     "output_type": "execute_result"
    }
   ],
   "source": [
    "fmnt2"
   ]
  },
  {
   "cell_type": "code",
   "execution_count": 18,
   "id": "3564243c",
   "metadata": {},
   "outputs": [],
   "source": [
    "df = pd.read_csv('../generated_data/cleaned/final_complete.csv')"
   ]
  },
  {
   "cell_type": "code",
   "execution_count": 19,
   "id": "11a91d0f",
   "metadata": {},
   "outputs": [
    {
     "data": {
      "text/html": [
       "<div>\n",
       "<style scoped>\n",
       "    .dataframe tbody tr th:only-of-type {\n",
       "        vertical-align: middle;\n",
       "    }\n",
       "\n",
       "    .dataframe tbody tr th {\n",
       "        vertical-align: top;\n",
       "    }\n",
       "\n",
       "    .dataframe thead th {\n",
       "        text-align: right;\n",
       "    }\n",
       "</style>\n",
       "<table border=\"1\" class=\"dataframe\">\n",
       "  <thead>\n",
       "    <tr style=\"text-align: right;\">\n",
       "      <th></th>\n",
       "      <th>Unnamed: 0</th>\n",
       "      <th>type of prompt</th>\n",
       "      <th>temperature</th>\n",
       "      <th>text</th>\n",
       "    </tr>\n",
       "  </thead>\n",
       "  <tbody>\n",
       "    <tr>\n",
       "      <th>0</th>\n",
       "      <td>0</td>\n",
       "      <td>positive</td>\n",
       "      <td>0.1</td>\n",
       "      <td>Alright, self, let's have a little chat, eh?...</td>\n",
       "    </tr>\n",
       "    <tr>\n",
       "      <th>1</th>\n",
       "      <td>1</td>\n",
       "      <td>positive</td>\n",
       "      <td>0.1</td>\n",
       "      <td>Man, I can't believe it's been six months al...</td>\n",
       "    </tr>\n",
       "    <tr>\n",
       "      <th>2</th>\n",
       "      <td>3</td>\n",
       "      <td>positive</td>\n",
       "      <td>0.1</td>\n",
       "      <td>Man, I can't believe it's been six months si...</td>\n",
       "    </tr>\n",
       "    <tr>\n",
       "      <th>3</th>\n",
       "      <td>4</td>\n",
       "      <td>positive</td>\n",
       "      <td>0.1</td>\n",
       "      <td>Alright, self, let's have a little chat, sha...</td>\n",
       "    </tr>\n",
       "    <tr>\n",
       "      <th>4</th>\n",
       "      <td>5</td>\n",
       "      <td>positive</td>\n",
       "      <td>0.1</td>\n",
       "      <td>Alright, self, let's have a little chat, sha...</td>\n",
       "    </tr>\n",
       "  </tbody>\n",
       "</table>\n",
       "</div>"
      ],
      "text/plain": [
       "   Unnamed: 0 type of prompt  temperature  \\\n",
       "0           0       positive          0.1   \n",
       "1           1       positive          0.1   \n",
       "2           3       positive          0.1   \n",
       "3           4       positive          0.1   \n",
       "4           5       positive          0.1   \n",
       "\n",
       "                                                text  \n",
       "0    Alright, self, let's have a little chat, eh?...  \n",
       "1    Man, I can't believe it's been six months al...  \n",
       "2    Man, I can't believe it's been six months si...  \n",
       "3    Alright, self, let's have a little chat, sha...  \n",
       "4    Alright, self, let's have a little chat, sha...  "
      ]
     },
     "execution_count": 19,
     "metadata": {},
     "output_type": "execute_result"
    }
   ],
   "source": [
    "df.head()"
   ]
  },
  {
   "cell_type": "code",
   "execution_count": 20,
   "id": "d99a120e",
   "metadata": {},
   "outputs": [
    {
     "data": {
      "text/plain": [
       "\"  Alright, self, let's have a little chat, eh? It's been a while since we've had one of these heart-to-hearts. I mean, it's not like I don't talk to myself already, what with all the data analysis and coding I do at work. But this is different, this is just... me, you know?  So, here I am, in the big city, working as a data scientist for a massive company. It's a bloody good job, really. I get to use my brain, solve complex problems, and make a difference in the world, even if it's just a tiny one. And the people, they're alright, too. I've made some good mates here, the kind of people who'll go for a pint with you after work or help you move flats on the weekend.  But, blimey, it's not all sunshine and roses, is it? I mean, I've only been here for a few months, and I'm still trying to figure this place out. London's a bloody monster of a city, and it can be a bit overwhelming at times. I miss the countryside, the fresh air, the quiet. I miss my old mates, too, the ones I left behind when I moved here. We don't talk as much as we used to, and it's tough, you know?  And then there's the whole dating scene. Bloody hell, it's a nightmare. I mean, I'm not exactly a Casanova, but I used to do alright back home. Here, though, it's a different story. Everyone's so... busy, I guess? Or maybe it's just me. Maybe I'm not putting myself out there enough. Maybe I'm not the kind of guy who can make it in a city like this.  But, no, I can't think like that. I've got to stay positive, keep pushing forward. I've got to explore this city, find the hidden gems, the quiet corners, the places where I can breathe and think and be myself. I've got to make new friends, find new hobbies, discover new passions.  And, you know, maybe I'll even find someone special. Someone who understands me, who gets me, who makes me laugh and feel alive. It's a tall order, I know, but I've got to believe it's possible. I've got to believe that I can find happiness here, in this crazy, chaotic, beautiful city.  So, here's to the future, eh? To new adventures, new challenges, new experiences. To growth, to learning, to becoming the best version of myself that I can be. To London, and to me, and to all the possibilities that lie ahead.  Now, let's get back to work, shall we? There's a mountain of data waiting for me, and I've got a bloody good feeling about this one. Let's see what secrets we can uncover, you and I. Together, we can do anything.\""
      ]
     },
     "execution_count": 20,
     "metadata": {},
     "output_type": "execute_result"
    }
   ],
   "source": [
    "df['text'].iloc[0]"
   ]
  },
  {
   "cell_type": "code",
   "execution_count": 34,
   "id": "17d30f54",
   "metadata": {},
   "outputs": [],
   "source": [
    "dct = {'anger' : list(),\n",
    "'trust' : list(),\n",
    "'surprise' : list(), \n",
    "'disgust' : list(),\n",
    "'joy' : list(),\n",
    "'sadness' : list(),\n",
    "'fear' : list(),\n",
    "'anticipation' : list()}"
   ]
  },
  {
   "cell_type": "code",
   "execution_count": 38,
   "id": "de861f7e",
   "metadata": {},
   "outputs": [],
   "source": [
    "for i in range(2):\n",
    "    text = df['text'].iloc[i]\n",
    "    scores = emos.zscores(text)\n",
    "    for k in scores:\n",
    "        dct[k].append(scores[k])"
   ]
  },
  {
   "cell_type": "code",
   "execution_count": 40,
   "id": "125f718d",
   "metadata": {},
   "outputs": [],
   "source": [
    "def compute_scores(df, n = -1):\n",
    "    dct = {'anger' : list(),\n",
    "'trust' : list(),\n",
    "'surprise' : list(), \n",
    "'disgust' : list(),\n",
    "'joy' : list(),\n",
    "'sadness' : list(),\n",
    "'fear' : list(),\n",
    "'anticipation' : list()}\n",
    "\n",
    "    if n == -1:\n",
    "        for i in range(len(df)):\n",
    "            text = df['text'].iloc[i]\n",
    "            scores = emos.zscores(text)\n",
    "            for k in scores:\n",
    "                dct[k].append(scores[k])\n",
    "    else:\n",
    "        for i in range(len(df)):\n",
    "            text = df['text'].iloc[i]\n",
    "            scores = emos.zscores(text)\n",
    "            for k in scores:\n",
    "                dct[k].append(scores[k])\n",
    "\n",
    "    return dct"
   ]
  },
  {
   "cell_type": "markdown",
   "id": "0aaad491",
   "metadata": {},
   "source": [
    "TODO: convert dct into dataframe, then add to the cleaned df"
   ]
  },
  {
   "cell_type": "code",
   "execution_count": 42,
   "id": "0539a917",
   "metadata": {},
   "outputs": [],
   "source": [
    "dct = compute_scores(df)"
   ]
  },
  {
   "cell_type": "code",
   "execution_count": 44,
   "id": "d2f1d34f",
   "metadata": {},
   "outputs": [
    {
     "data": {
      "text/plain": [
       "590"
      ]
     },
     "execution_count": 44,
     "metadata": {},
     "output_type": "execute_result"
    }
   ],
   "source": [
    "len(dct['anger'])"
   ]
  },
  {
   "cell_type": "code",
   "execution_count": 46,
   "id": "d42a1d67",
   "metadata": {},
   "outputs": [],
   "source": [
    "df_emotions = pd.DataFrame(dct)"
   ]
  },
  {
   "cell_type": "code",
   "execution_count": 50,
   "id": "ffbea8c0",
   "metadata": {},
   "outputs": [],
   "source": [
    "pd.concat([df, df_emotions], axis = 1).to_csv('../generated_data/cleaned/emotions.csv')"
   ]
  },
  {
   "cell_type": "code",
   "execution_count": null,
   "id": "3089cf8c",
   "metadata": {},
   "outputs": [],
   "source": []
  },
  {
   "cell_type": "code",
   "execution_count": null,
   "id": "9b3da78f",
   "metadata": {},
   "outputs": [],
   "source": [
    "\n",
    "for _ in range(2):\n",
    "    "
   ]
  }
 ],
 "metadata": {
  "kernelspec": {
   "display_name": ".venv",
   "language": "python",
   "name": "python3"
  },
  "language_info": {
   "codemirror_mode": {
    "name": "ipython",
    "version": 3
   },
   "file_extension": ".py",
   "mimetype": "text/x-python",
   "name": "python",
   "nbconvert_exporter": "python",
   "pygments_lexer": "ipython3",
   "version": "3.9.6"
  }
 },
 "nbformat": 4,
 "nbformat_minor": 5
}

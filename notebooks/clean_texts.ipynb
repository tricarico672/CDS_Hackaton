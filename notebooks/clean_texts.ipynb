{
 "cells": [
  {
   "cell_type": "code",
   "execution_count": null,
   "id": "14308a30",
   "metadata": {},
   "outputs": [],
   "source": [
    "import pandas as pd\n",
    "from string import ascii_lowercase"
   ]
  },
  {
   "cell_type": "code",
   "execution_count": 3,
   "id": "4de5d11a",
   "metadata": {},
   "outputs": [],
   "source": [
    "df = pd.read_csv('../generated_data/chat_100.csv')"
   ]
  },
  {
   "cell_type": "code",
   "execution_count": 4,
   "id": "c6696901",
   "metadata": {},
   "outputs": [
    {
     "data": {
      "text/html": [
       "<div>\n",
       "<style scoped>\n",
       "    .dataframe tbody tr th:only-of-type {\n",
       "        vertical-align: middle;\n",
       "    }\n",
       "\n",
       "    .dataframe tbody tr th {\n",
       "        vertical-align: top;\n",
       "    }\n",
       "\n",
       "    .dataframe thead th {\n",
       "        text-align: right;\n",
       "    }\n",
       "</style>\n",
       "<table border=\"1\" class=\"dataframe\">\n",
       "  <thead>\n",
       "    <tr style=\"text-align: right;\">\n",
       "      <th></th>\n",
       "      <th>Unnamed: 0</th>\n",
       "      <th>type of prompt</th>\n",
       "      <th>temperature</th>\n",
       "      <th>text</th>\n",
       "    </tr>\n",
       "  </thead>\n",
       "  <tbody>\n",
       "    <tr>\n",
       "      <th>0</th>\n",
       "      <td>0</td>\n",
       "      <td>positive</td>\n",
       "      <td>0.1</td>\n",
       "      <td>Alright, self, let's have a little chat, eh?...</td>\n",
       "    </tr>\n",
       "    <tr>\n",
       "      <th>1</th>\n",
       "      <td>1</td>\n",
       "      <td>positive</td>\n",
       "      <td>0.1</td>\n",
       "      <td>Man, I can't believe it's been six months al...</td>\n",
       "    </tr>\n",
       "    <tr>\n",
       "      <th>2</th>\n",
       "      <td>2</td>\n",
       "      <td>positive</td>\n",
       "      <td>0.1</td>\n",
       "      <td>Man, I can't believe it's been six months al...</td>\n",
       "    </tr>\n",
       "    <tr>\n",
       "      <th>3</th>\n",
       "      <td>3</td>\n",
       "      <td>positive</td>\n",
       "      <td>0.1</td>\n",
       "      <td>Man, I can't believe it's been six months si...</td>\n",
       "    </tr>\n",
       "    <tr>\n",
       "      <th>4</th>\n",
       "      <td>4</td>\n",
       "      <td>positive</td>\n",
       "      <td>0.1</td>\n",
       "      <td>Alright, self, let's have a little chat, sha...</td>\n",
       "    </tr>\n",
       "  </tbody>\n",
       "</table>\n",
       "</div>"
      ],
      "text/plain": [
       "   Unnamed: 0 type of prompt  temperature  \\\n",
       "0           0       positive          0.1   \n",
       "1           1       positive          0.1   \n",
       "2           2       positive          0.1   \n",
       "3           3       positive          0.1   \n",
       "4           4       positive          0.1   \n",
       "\n",
       "                                                text  \n",
       "0    Alright, self, let's have a little chat, eh?...  \n",
       "1    Man, I can't believe it's been six months al...  \n",
       "2    Man, I can't believe it's been six months al...  \n",
       "3    Man, I can't believe it's been six months si...  \n",
       "4    Alright, self, let's have a little chat, sha...  "
      ]
     },
     "execution_count": 4,
     "metadata": {},
     "output_type": "execute_result"
    }
   ],
   "source": [
    "df.head()"
   ]
  },
  {
   "cell_type": "code",
   "execution_count": 5,
   "id": "5386e0af",
   "metadata": {},
   "outputs": [
    {
     "data": {
      "text/plain": [
       "Unnamed: 0          int64\n",
       "type of prompt     object\n",
       "temperature       float64\n",
       "text               object\n",
       "dtype: object"
      ]
     },
     "execution_count": 5,
     "metadata": {},
     "output_type": "execute_result"
    }
   ],
   "source": [
    "df.dtypes"
   ]
  },
  {
   "cell_type": "code",
   "execution_count": null,
   "id": "ea5cd99f",
   "metadata": {},
   "outputs": [
    {
     "data": {
      "text/plain": [
       "0        Alright, self, let's have a little chat, eh?...\n",
       "1        Man, I can't believe it's been six months al...\n",
       "2        Man, I can't believe it's been six months al...\n",
       "3        Man, I can't believe it's been six months si...\n",
       "4        Alright, self, let's have a little chat, sha...\n",
       "                             ...                        \n",
       "595      Sure, I can do this. I mean, I'm a data scie...\n",
       "596      God. I mean, seriously - when did everything...\n",
       "597      Man, I don't even know where to begin. Londo...\n",
       "598      Man, I don't know if I can hack it here anym...\n",
       "599      Man, I don't know what's wrong with me. I'm ...\n",
       "Name: text, Length: 600, dtype: object"
      ]
     },
     "execution_count": 6,
     "metadata": {},
     "output_type": "execute_result"
    }
   ],
   "source": [
    "df['text'].str.islower"
   ]
  },
  {
   "cell_type": "code",
   "execution_count": 10,
   "id": "802b9396",
   "metadata": {},
   "outputs": [
    {
     "data": {
      "text/plain": [
       "6"
      ]
     },
     "execution_count": 10,
     "metadata": {},
     "output_type": "execute_result"
    }
   ],
   "source": [
    "sum(df['text'].str.startswith('('))"
   ]
  },
  {
   "cell_type": "code",
   "execution_count": 32,
   "id": "48c31deb",
   "metadata": {},
   "outputs": [],
   "source": [
    "import numpy as np"
   ]
  },
  {
   "cell_type": "code",
   "execution_count": 34,
   "id": "35beef1a",
   "metadata": {},
   "outputs": [
    {
     "data": {
      "text/plain": [
       "np.int64(1)"
      ]
     },
     "execution_count": 34,
     "metadata": {},
     "output_type": "execute_result"
    }
   ],
   "source": [
    "df['text'].str.len().min()"
   ]
  },
  {
   "cell_type": "code",
   "execution_count": 14,
   "id": "7bdf60c0",
   "metadata": {},
   "outputs": [],
   "source": [
    "non_ascii_mask = df['text'].apply(lambda x: not all(ord(char) < 128 for char in str(x)))"
   ]
  },
  {
   "cell_type": "code",
   "execution_count": 38,
   "id": "413b3293",
   "metadata": {},
   "outputs": [],
   "source": [
    "# clean data\n",
    "def clean_df(df: pd.DataFrame) -> pd.DataFrame:\n",
    "\n",
    "    # make text lowercase\n",
    "    df['text_lower'] = df['text'].str.lower()\n",
    "\n",
    "    # drop if text is shorter than 500 characters\n",
    "    min_length = df['text_lower'].str.len() >= 500\n",
    "    # check if text starts with parenthesis\n",
    "    parenthesis = df['text_lower'].str.startswith('(')\n",
    "    \n",
    "    # check if non ascii letters are used\n",
    "    non_ascii_mask = df['text'].apply(lambda x: not all(ord(char) < 128 for char in str(x)))\n",
    "\n",
    "    df_cleaned = df[(~parenthesis) & (~non_ascii_mask) & (min_length)]\n",
    "\n",
    "    return df_cleaned\n"
   ]
  },
  {
   "cell_type": "code",
   "execution_count": 22,
   "id": "999904bb",
   "metadata": {},
   "outputs": [],
   "source": [
    "cleaned_100 = clean_df(df)"
   ]
  },
  {
   "cell_type": "code",
   "execution_count": 25,
   "id": "d8f23830",
   "metadata": {},
   "outputs": [],
   "source": [
    "def drop_data(df:pd.DataFrame, temp:int = 1.3) -> pd.DataFrame:\n",
    "\n",
    "    return df[df['temperature'] != temp]"
   ]
  },
  {
   "cell_type": "code",
   "execution_count": 27,
   "id": "937e6a5c",
   "metadata": {},
   "outputs": [],
   "source": [
    "cleaned_medium_temp = drop_data(cleaned_100, temp = 1.3)"
   ]
  },
  {
   "cell_type": "code",
   "execution_count": 28,
   "id": "2a46cd61",
   "metadata": {},
   "outputs": [
    {
     "data": {
      "text/html": [
       "<div>\n",
       "<style scoped>\n",
       "    .dataframe tbody tr th:only-of-type {\n",
       "        vertical-align: middle;\n",
       "    }\n",
       "\n",
       "    .dataframe tbody tr th {\n",
       "        vertical-align: top;\n",
       "    }\n",
       "\n",
       "    .dataframe thead th {\n",
       "        text-align: right;\n",
       "    }\n",
       "</style>\n",
       "<table border=\"1\" class=\"dataframe\">\n",
       "  <thead>\n",
       "    <tr style=\"text-align: right;\">\n",
       "      <th></th>\n",
       "      <th>Unnamed: 0</th>\n",
       "      <th>type of prompt</th>\n",
       "      <th>temperature</th>\n",
       "      <th>text</th>\n",
       "      <th>text_lower</th>\n",
       "    </tr>\n",
       "  </thead>\n",
       "  <tbody>\n",
       "    <tr>\n",
       "      <th>495</th>\n",
       "      <td>495</td>\n",
       "      <td>negative</td>\n",
       "      <td>0.7</td>\n",
       "      <td>Bloody hell, here I am, a 25-year-old data s...</td>\n",
       "      <td>bloody hell, here i am, a 25-year-old data s...</td>\n",
       "    </tr>\n",
       "    <tr>\n",
       "      <th>496</th>\n",
       "      <td>496</td>\n",
       "      <td>negative</td>\n",
       "      <td>0.7</td>\n",
       "      <td>London, you're a beast of a city, aren't you...</td>\n",
       "      <td>london, you're a beast of a city, aren't you...</td>\n",
       "    </tr>\n",
       "    <tr>\n",
       "      <th>497</th>\n",
       "      <td>497</td>\n",
       "      <td>negative</td>\n",
       "      <td>0.7</td>\n",
       "      <td>London, bloody London. A city of millions, a...</td>\n",
       "      <td>london, bloody london. a city of millions, a...</td>\n",
       "    </tr>\n",
       "    <tr>\n",
       "      <th>498</th>\n",
       "      <td>498</td>\n",
       "      <td>negative</td>\n",
       "      <td>0.7</td>\n",
       "      <td>London, man, it's a beast. I thought I could...</td>\n",
       "      <td>london, man, it's a beast. i thought i could...</td>\n",
       "    </tr>\n",
       "    <tr>\n",
       "      <th>499</th>\n",
       "      <td>499</td>\n",
       "      <td>negative</td>\n",
       "      <td>0.7</td>\n",
       "      <td>God, I don't even know where to begin. I mea...</td>\n",
       "      <td>god, i don't even know where to begin. i mea...</td>\n",
       "    </tr>\n",
       "  </tbody>\n",
       "</table>\n",
       "</div>"
      ],
      "text/plain": [
       "     Unnamed: 0 type of prompt  temperature  \\\n",
       "495         495       negative          0.7   \n",
       "496         496       negative          0.7   \n",
       "497         497       negative          0.7   \n",
       "498         498       negative          0.7   \n",
       "499         499       negative          0.7   \n",
       "\n",
       "                                                  text  \\\n",
       "495    Bloody hell, here I am, a 25-year-old data s...   \n",
       "496    London, you're a beast of a city, aren't you...   \n",
       "497    London, bloody London. A city of millions, a...   \n",
       "498    London, man, it's a beast. I thought I could...   \n",
       "499    God, I don't even know where to begin. I mea...   \n",
       "\n",
       "                                            text_lower  \n",
       "495    bloody hell, here i am, a 25-year-old data s...  \n",
       "496    london, you're a beast of a city, aren't you...  \n",
       "497    london, bloody london. a city of millions, a...  \n",
       "498    london, man, it's a beast. i thought i could...  \n",
       "499    god, i don't even know where to begin. i mea...  "
      ]
     },
     "execution_count": 28,
     "metadata": {},
     "output_type": "execute_result"
    }
   ],
   "source": [
    "cleaned_medium_temp.tail()"
   ]
  },
  {
   "cell_type": "code",
   "execution_count": 29,
   "id": "e6fb3c55",
   "metadata": {},
   "outputs": [],
   "source": [
    "cleaned_medium_temp.to_csv('../generated_data/cleaned_medium_temp.csv')"
   ]
  },
  {
   "cell_type": "code",
   "execution_count": 36,
   "id": "207c713d",
   "metadata": {},
   "outputs": [],
   "source": [
    "dropped = drop_data(df)"
   ]
  },
  {
   "cell_type": "code",
   "execution_count": 40,
   "id": "a27a2109",
   "metadata": {},
   "outputs": [
    {
     "name": "stderr",
     "output_type": "stream",
     "text": [
      "/var/folders/65/y_4wn0fj3bnd97jf8rf1qbyw0000gn/T/ipykernel_11308/2298753586.py:5: SettingWithCopyWarning: \n",
      "A value is trying to be set on a copy of a slice from a DataFrame.\n",
      "Try using .loc[row_indexer,col_indexer] = value instead\n",
      "\n",
      "See the caveats in the documentation: https://pandas.pydata.org/pandas-docs/stable/user_guide/indexing.html#returning-a-view-versus-a-copy\n",
      "  df['text_lower'] = df['text'].str.lower()\n"
     ]
    }
   ],
   "source": [
    "cleaned_final = clean_df(dropped)"
   ]
  },
  {
   "cell_type": "code",
   "execution_count": 43,
   "id": "b0c64736",
   "metadata": {},
   "outputs": [],
   "source": [
    "def prepare_csv(df:pd.DataFrame, col_drop: list = ['Unnamed: 0', 'text_lower']) -> pd.DataFrame:\n",
    "\n",
    "    # prepare data for export in csv by dropping the columns specified in the argument\n",
    "\n",
    "    return df.drop(columns=col_drop, axis = 1)"
   ]
  },
  {
   "cell_type": "code",
   "execution_count": 45,
   "id": "d0cef3fb",
   "metadata": {},
   "outputs": [],
   "source": [
    "export = prepare_csv(cleaned_final)"
   ]
  },
  {
   "cell_type": "code",
   "execution_count": 46,
   "id": "0470d87c",
   "metadata": {},
   "outputs": [],
   "source": [
    "export.to_csv('../generated_data/cleaned/final_100.csv')"
   ]
  },
  {
   "cell_type": "code",
   "execution_count": 50,
   "id": "46ea5198",
   "metadata": {},
   "outputs": [],
   "source": [
    "def merge_df(df1: pd.DataFrame, df2: pd.DataFrame):\n",
    "\n",
    "    return pd.concat([df1, df2], axis=0)"
   ]
  },
  {
   "cell_type": "code",
   "execution_count": 51,
   "id": "5a6da614",
   "metadata": {},
   "outputs": [],
   "source": [
    "df_ant = pd.read_csv('../generated_data/data_chat_local.csv')"
   ]
  },
  {
   "cell_type": "code",
   "execution_count": 55,
   "id": "44b5ddbc",
   "metadata": {},
   "outputs": [],
   "source": [
    "merged=merge_df(export, df_ant).drop('Unnamed: 0', axis=1)"
   ]
  },
  {
   "cell_type": "code",
   "execution_count": 56,
   "id": "20e4e461",
   "metadata": {},
   "outputs": [],
   "source": [
    "merged.to_csv('../generated_data/cleaned/merged.csv')"
   ]
  },
  {
   "cell_type": "code",
   "execution_count": 58,
   "id": "0851581b",
   "metadata": {},
   "outputs": [],
   "source": [
    "new_observations = pd.read_csv('../generated_data/data_chat_local_complete.csv')"
   ]
  },
  {
   "cell_type": "code",
   "execution_count": 61,
   "id": "851cbe08",
   "metadata": {},
   "outputs": [],
   "source": [
    "cleaned_new = clean_df(new_observations)"
   ]
  },
  {
   "cell_type": "code",
   "execution_count": 62,
   "id": "24cddaa9",
   "metadata": {},
   "outputs": [],
   "source": [
    "final_df = merge_df(merged, cleaned_new)"
   ]
  },
  {
   "cell_type": "code",
   "execution_count": 65,
   "id": "825009a4",
   "metadata": {},
   "outputs": [],
   "source": [
    "prepare_csv(final_df).to_csv('../generated_data/cleaned/final_complete.csv')"
   ]
  }
 ],
 "metadata": {
  "kernelspec": {
   "display_name": ".venv",
   "language": "python",
   "name": "python3"
  },
  "language_info": {
   "codemirror_mode": {
    "name": "ipython",
    "version": 3
   },
   "file_extension": ".py",
   "mimetype": "text/x-python",
   "name": "python",
   "nbconvert_exporter": "python",
   "pygments_lexer": "ipython3",
   "version": "3.13.2"
  }
 },
 "nbformat": 4,
 "nbformat_minor": 5
}
